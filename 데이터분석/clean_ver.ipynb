{
 "cells": [
  {
   "cell_type": "markdown",
   "metadata": {},
   "source": [
    "# 사전준비"
   ]
  },
  {
   "cell_type": "code",
   "execution_count": 1,
   "metadata": {
    "scrolled": true
   },
   "outputs": [],
   "source": [
    "##import 및 경로설정\n",
    "import os\n",
    "import pandas as pd\n",
    "from matplotlib import pyplot as plt\n",
    "import numpy as np\n",
    "from scipy import stats\n",
    "path = 'C:/Users/zofld/Desktop'"
   ]
  },
  {
   "cell_type": "markdown",
   "metadata": {},
   "source": [
    "# 비교용 카드 데이터 준비 함수"
   ]
  },
  {
   "cell_type": "code",
   "execution_count": 2,
   "metadata": {},
   "outputs": [],
   "source": [
    "def prepare_card_data():\n",
    "    ##비교용 카드데이터\n",
    "    card_real_data = pd.read_csv(os.path.join(path, '카드데이터.csv'), encoding='utf-8')\n",
    "    ##카드데이터에서 업종부분만 추출\n",
    "    card_data_UPJONG = card_real_data.loc[3:16, :]\n",
    "    ##업종별 이름순 정렬\n",
    "    card_data_UPJONG = card_data_UPJONG.sort_values(by=card_data_UPJONG.columns[0], ascending=True)\n",
    "    card_data_UPJONG = card_data_UPJONG.reset_index()\n",
    "    card_data_UPJONG = card_data_UPJONG.drop(['index'],axis = 1)\n",
    "    card_data = [card_real_data, card_data_UPJONG]\n",
    "    return card_data"
   ]
  },
  {
   "cell_type": "markdown",
   "metadata": {},
   "source": [
    "# 데이터 프레임 업종 개수 통일 함수"
   ]
  },
  {
   "cell_type": "code",
   "execution_count": 3,
   "metadata": {},
   "outputs": [],
   "source": [
    "## 데이터에 있지 않은 업종도 최하위순위로 추가해주는 함수\n",
    "def UPJONG_UNION(input_data):\n",
    "    imsi = pd.DataFrame([['가전/가구'],\n",
    "                     ['가정생활/서비스'],\n",
    "                     ['교육/학원'],\n",
    "                     ['미용'],\n",
    "                     ['스포츠/문화/레저'],\n",
    "                     ['여행/교통'],\n",
    "                     ['요식/유흥'],\n",
    "                     ['유통'],\n",
    "                     ['음/식료품'],\n",
    "                     ['의료'],\n",
    "                     ['의류/잡화'],\n",
    "                     ['자동차'],\n",
    "                     ['전자상거래'],\n",
    "                     ['주유']], columns = {'CLASS1'}\n",
    "    )\n",
    "    UNION_data = pd.merge(imsi, input_data, how = 'left', on = 'CLASS1' )\n",
    "    ##UNION_data = UNION_data.drop(['Unnamed: 0', 'BLCK','성별','연령대별','카드이용건수계순위'],axis=1)\n",
    "    UNION_data_new = pd.DataFrame()\n",
    "    UNION_data_new['CLASS1'] = UNION_data['CLASS1']\n",
    "    UNION_data_new['카드이용금액계순위'] = UNION_data['카드이용금액계순위']\n",
    "    UNION_data2 = UNION_data_new.fillna(0)\n",
    "    max_num = 0\n",
    "    for i in UNION_data2['카드이용금액계순위'] :\n",
    "        if i > max_num:\n",
    "            max_num = i\n",
    "    UNION_data_new = UNION_data_new.fillna(max_num + 1)\n",
    "    return UNION_data_new"
   ]
  },
  {
   "cell_type": "markdown",
   "metadata": {},
   "source": [
    "# 기타함수"
   ]
  },
  {
   "cell_type": "code",
   "execution_count": 4,
   "metadata": {},
   "outputs": [],
   "source": [
    "##지역데이터 index slicing\n",
    "def search_index(input_data):\n",
    "    index = 0\n",
    "    compare = 0\n",
    "    for i in input_data['CLASS1']:\n",
    "        if((i =='가전/가구') & (compare<0)) : \n",
    "                compare = 0\n",
    "                index += 1\n",
    "        elif((i =='가정생활/서비스') & (compare<1)) : \n",
    "                compare = 1\n",
    "                index += 1\n",
    "        elif((i =='교육/학원') & (compare<2)) : \n",
    "                compare = 2\n",
    "                index += 1\n",
    "        elif((i =='미용') & (compare<3)) : \n",
    "                compare = 3\n",
    "                index += 1\n",
    "        elif((i =='스포츠/문화/레저') & (compare<4)) : \n",
    "                compare = 4\n",
    "                index += 1\n",
    "        elif((i =='여행/교통') & (compare<5)) : \n",
    "                compare = 5\n",
    "                index += 1\n",
    "        elif((i =='요식/유흥') & (compare<6)) : \n",
    "                compare = 6\n",
    "                index += 1\n",
    "        elif((i =='유통') & (compare<7)) :\n",
    "                compare = 7\n",
    "                index += 1\n",
    "        elif((i =='음/식료품') & (compare<8)) : \n",
    "                compare = 8\n",
    "                index += 1\n",
    "        elif((i =='의료') & (compare<9)) : \n",
    "                compare = 9\n",
    "                index += 1\n",
    "        elif((i =='의류/잡화') & (compare<10)) :\n",
    "                compare = 10\n",
    "                index += 1\n",
    "        elif((i =='자동차') & (compare<11)) : \n",
    "                compare = 11\n",
    "                index += 1\n",
    "        elif((i =='전자상거래') & (compare<12)) : \n",
    "                compare = 12\n",
    "                index += 1\n",
    "        elif((i=='주유') & (compare<13)): \n",
    "                compare = 13\n",
    "                index += 1\n",
    "    return index"
   ]
  },
  {
   "cell_type": "markdown",
   "metadata": {},
   "source": [
    "# 유사도분석 및 카드추천 함수"
   ]
  },
  {
   "cell_type": "code",
   "execution_count": 5,
   "metadata": {},
   "outputs": [],
   "source": [
    "def analysis_recommend(input_data, card_data) :\n",
    "    ##개인소비데이터 업종별 순위 리스트 작성\n",
    "    personal_rank_list = []\n",
    "    for i in input_data['카드이용금액계순위']:\n",
    "        personal_rank_list.append(i)\n",
    "    card_similarity = [] ##유사도 저장용 리스트\n",
    "    count = 1\n",
    "    for i in card_data[1].iloc[:, 1:len(card_data[1])]:\n",
    "        card_rank_data = card_data[1].iloc[:, [count]]\n",
    "        card_ranking = card_rank_data.rank(method='min', ascending=False)\n",
    "        card_rank = []\n",
    "        for j in range(14) :\n",
    "            card_rank.append(card_ranking.iloc[j,0])\n",
    "        tau_similarity, p_value = stats.kendalltau(personal_rank_list, card_rank) ##유사도측정\n",
    "        card_similarity.append(tau_similarity)\n",
    "        count += 1\n",
    "    ##가중치계산 준비\n",
    "    input_data_Class=input_data[input_data['카드이용금액계순위']<6].sort_values(by=input_data.columns[1],ascending=True).iloc[:,0]\n",
    "    ##가중치이용 총점계산\n",
    "    card_score=['총점']\n",
    "    for i in range(card_data[1].shape[1] - 1) :\n",
    "        score=float(card_data[1].iloc[input_data_Class.index[0],i+1])*5/15 \n",
    "        + float(card_data[1].iloc[input_data_Class.index[1],i+1])*4/15 \n",
    "        + float(card_data[1].iloc[input_data_Class.index[2],i+1])*3/15 \n",
    "        + float(card_data[1].iloc[input_data_Class.index[3],i+1])*2/15 \n",
    "        + float(card_data[1].iloc[input_data_Class.index[4],i+1])*1/15\n",
    "        card_score.append(score)\n",
    "    data = card_data[0]\n",
    "    data = data.append(pd.Series(card_score, index=data.columns), ignore_index=True)\n",
    "    data_score = data.loc[17, :]\n",
    "    ##상위3카드 점수계산, index추출\n",
    "    first_card_index = 0\n",
    "    first_card_score = 0\n",
    "    second_card_index = 0\n",
    "    second_card_score = 0\n",
    "    third_card_index = 0\n",
    "    third_card_score = 0\n",
    "    change = 0\n",
    "    for i in range(1,len(card_similarity)+1):\n",
    "        if card_similarity[i-1] >= -1 : #특정유사도 이상\n",
    "            if float(data_score[i]) > third_card_score:\n",
    "                third_card_score = float(data_score[i])\n",
    "                third_card_index = i\n",
    "                if float(data_score[i]) > second_card_score:\n",
    "                    change = second_card_score\n",
    "                    second_card_score = third_card_score\n",
    "                    third_card_score = change\n",
    "                    change = second_card_index\n",
    "                    second_card_index = third_card_index\n",
    "                    third_card_index = change\n",
    "                    if float(data_score[i]) > first_card_score:\n",
    "                        change = first_card_score\n",
    "                        first_card_score = second_card_score\n",
    "                        second_card_score = change\n",
    "                        change = first_card_index\n",
    "                        first_card_index = second_card_index\n",
    "                        second_card_index = change\n",
    "\n",
    "    #상위3카드 결과출력\n",
    "    card_name = data.loc[0, :]\n",
    "    print(\"1st카드 : %s, 카드점수 : %f\" %(card_name[first_card_index], data_score[first_card_index]))\n",
    "    print(\"2st카드 : %s, 카드점수 : %f\" %(card_name[second_card_index], data_score[second_card_index]))\n",
    "    print(\"3st카드 : %s, 카드점수 : %f\" %(card_name[third_card_index], data_score[third_card_index]))\n",
    "    print()"
   ]
  },
  {
   "cell_type": "markdown",
   "metadata": {},
   "source": [
    "# 개인소비데이터, 카드데이터 유사도 추천"
   ]
  },
  {
   "cell_type": "code",
   "execution_count": 6,
   "metadata": {},
   "outputs": [],
   "source": [
    "def personal_recommend(input_data):\n",
    "    ##개인소비데이터 불러오기 후, 업종별 합산 후, 순위작성\n",
    "    personal_data = pd.read_csv(os.path.join(path, input_data), encoding='utf-8')\n",
    "    df = personal_data.pivot_table(index=['CLASS1'], \n",
    "                                   values = ['카드이용건수계', '카드이용금액계'], aggfunc = 'sum')\n",
    "    personal_Df = df.reset_index()\n",
    "    ##personal_Df['카드이용건수계순위']=personal_Df['카드이용건수계'].rank(method='min',ascending=False)\n",
    "    personal_Df['카드이용금액계순위']=personal_Df['카드이용금액계'].rank(method='min',ascending=False)\n",
    "    personal_Df = personal_Df.drop(['카드이용건수계','카드이용금액계'], axis = 1)\n",
    "    ##업종 개수 통일\n",
    "    personal_Df = UPJONG_UNION(personal_Df)\n",
    "    ##유사도 측정 및 카드추천\n",
    "    print(\"<고객님의 소비패턴에 맞추어 혜택을 가장 많이 줄 수 있는 카드>\")\n",
    "    analysis_recommend(personal_Df, prepare_card_data())"
   ]
  },
  {
   "cell_type": "code",
   "execution_count": 7,
   "metadata": {},
   "outputs": [
    {
     "name": "stdout",
     "output_type": "stream",
     "text": [
      "<고객님의 소비패턴에 맞추어 혜택을 가장 많이 줄 수 있는 카드>\n",
      "1st카드 : 신한카드 YOLO, 카드점수 : 1.000000\n",
      "2st카드 : 신한카드 Unboxing, 카드점수 : 1.000000\n",
      "3st카드 : 위버스 신한카드(BTS), 카드점수 : 0.666667\n",
      "\n"
     ]
    }
   ],
   "source": [
    "personal_recommend('머희소비내역.csv')"
   ]
  },
  {
   "cell_type": "markdown",
   "metadata": {},
   "source": [
    "# 지역별데이터, 카드데이터 유사도 추천"
   ]
  },
  {
   "cell_type": "code",
   "execution_count": 8,
   "metadata": {},
   "outputs": [],
   "source": [
    "def local_recommend(gu_address, dong_address, age, sex, year_month) :\n",
    "    ##구별, 동별데이터 각각 불러오기\n",
    "    gu_local_data = pd.read_csv(os.path.join(path, '구대학가연령성별응용집계_'+year_month+'.csv'),\n",
    "                               encoding = 'utf-8')\n",
    "    dong_local_data = pd.read_csv(os.path.join(path, '동대학가연령성별응용집계_'+year_month+'.csv'),\n",
    "                               encoding = 'utf-8')\n",
    "    \n",
    "    ##입력 지역으로 필터링 후, 업종 개수 통일\n",
    "    gu_condition=(gu_local_data['연령대별']==age)&(gu_local_data['성별']==sex)&(gu_local_data['SIGNGU_CD']==gu_address)\n",
    "    dong_condition=(dong_local_data['연령대별']==age)&(dong_local_data['성별']==sex)&(dong_local_data['BLCK']==dong_address)\n",
    "    \n",
    "    gu_local_data2 = gu_local_data.loc[gu_condition]\n",
    "    gu_index = search_index(gu_local_data2)\n",
    "    gu_local_data2 = gu_local_data2.reset_index()\n",
    "    gu_local_data = gu_local_data2.loc[0:gu_index]\n",
    "    gu_local_data = gu_local_data.drop(['index','Unnamed: 0', 'SIGNGU_CD','성별','연령대별','카드이용건수계순위'], axis = 1)\n",
    "    gu_local_data = UPJONG_UNION(gu_local_data)\n",
    "    \n",
    "    dong_local_data2 = dong_local_data.loc[dong_condition]\n",
    "    dong_index = search_index(dong_local_data2)\n",
    "    dong_local_data2 = dong_local_data2.reset_index()\n",
    "    dong_local_data = dong_local_data2.loc[0:dong_index]\n",
    "    dong_local_data = dong_local_data.drop(['index','Unnamed: 0', 'BLCK','성별','연령대별','카드이용건수계순위'], axis = 1)\n",
    "    dong_local_data = UPJONG_UNION(dong_local_data)\n",
    "    \n",
    "    if sex == 'M':\n",
    "        sex2 = '남성'\n",
    "    else :\n",
    "        sex2 = '여성'\n",
    "    print(\"<%s에 사는 %s %s의 소비패턴에 추천되는 카드>\" %(gu_address, age, sex2))\n",
    "    analysis_recommend(gu_local_data, prepare_card_data())\n",
    "    print(\"<%s에 사는 %s %s의 소비패턴에 추천되는 카드>\" %(dong_address, age, sex2))\n",
    "    analysis_recommend(dong_local_data, prepare_card_data())"
   ]
  },
  {
   "cell_type": "code",
   "execution_count": 9,
   "metadata": {},
   "outputs": [
    {
     "name": "stdout",
     "output_type": "stream",
     "text": [
      "<노원구에 사는 20대 여성의 소비패턴에 추천되는 카드>\n",
      "1st카드 : 신한카드 YOLO, 카드점수 : 1.000000\n",
      "2st카드 : 신한카드 Unboxing, 카드점수 : 1.000000\n",
      "3st카드 : 위버스 신한카드(BTS), 카드점수 : 0.666667\n",
      "\n",
      "<월계3동에 사는 20대 여성의 소비패턴에 추천되는 카드>\n",
      "1st카드 : 신한카드 YOLO, 카드점수 : 1.000000\n",
      "2st카드 : 신한카드 Unboxing, 카드점수 : 1.000000\n",
      "3st카드 : 위버스 신한카드(BTS), 카드점수 : 0.666667\n",
      "\n"
     ]
    }
   ],
   "source": [
    "local_recommend(\"노원구\", \"월계3동\", \"20대\", \"F\", \"201903\")"
   ]
  },
  {
   "cell_type": "code",
   "execution_count": 10,
   "metadata": {
    "scrolled": false
   },
   "outputs": [
    {
     "name": "stdout",
     "output_type": "stream",
     "text": [
      "<마포구에 사는 70대이상 여성의 소비패턴에 추천되는 카드>\n",
      "1st카드 : 위버스 신한카드(BTS), 카드점수 : 1.000000\n",
      "2st카드 : 신한카드 Mr.Life, 카드점수 : 1.000000\n",
      "3st카드 : 신한카드 YOLO, 카드점수 : 1.000000\n",
      "\n",
      "<자양1동에 사는 70대이상 여성의 소비패턴에 추천되는 카드>\n",
      "1st카드 : 신한카드 Deep Taking, 카드점수 : 0.333333\n",
      "2st카드 : 신한카드 Mr.Life, 카드점수 : 0.010000\n"
     ]
    },
    {
     "ename": "TypeError",
     "evalue": "must be real number, not str",
     "output_type": "error",
     "traceback": [
      "\u001b[1;31m---------------------------------------------------------------------------\u001b[0m",
      "\u001b[1;31mTypeError\u001b[0m                                 Traceback (most recent call last)",
      "\u001b[1;32m<ipython-input-10-f9fc42434d0b>\u001b[0m in \u001b[0;36m<module>\u001b[1;34m\u001b[0m\n\u001b[1;32m----> 1\u001b[1;33m \u001b[0mlocal_recommend\u001b[0m\u001b[1;33m(\u001b[0m\u001b[1;34m\"마포구\"\u001b[0m\u001b[1;33m,\u001b[0m \u001b[1;34m\"자양1동\"\u001b[0m\u001b[1;33m,\u001b[0m \u001b[1;34m\"70대이상\"\u001b[0m\u001b[1;33m,\u001b[0m \u001b[1;34m\"F\"\u001b[0m\u001b[1;33m,\u001b[0m \u001b[1;34m\"201903\"\u001b[0m\u001b[1;33m)\u001b[0m\u001b[1;33m\u001b[0m\u001b[1;33m\u001b[0m\u001b[0m\n\u001b[0m",
      "\u001b[1;32m<ipython-input-8-02449b70cb9f>\u001b[0m in \u001b[0;36mlocal_recommend\u001b[1;34m(gu_address, dong_address, age, sex, year_month)\u001b[0m\n\u001b[0;32m     34\u001b[0m     \u001b[1;31m##print(\"<\"+dong_address+\"에 사는 \"+age+\" \"+sex2+\"의 소비패턴에 추천되는 카드>\")\u001b[0m\u001b[1;33m\u001b[0m\u001b[1;33m\u001b[0m\u001b[1;33m\u001b[0m\u001b[0m\n\u001b[0;32m     35\u001b[0m     \u001b[0mprint\u001b[0m\u001b[1;33m(\u001b[0m\u001b[1;34m\"<%s에 사는 %s %s의 소비패턴에 추천되는 카드>\"\u001b[0m \u001b[1;33m%\u001b[0m\u001b[1;33m(\u001b[0m\u001b[0mdong_address\u001b[0m\u001b[1;33m,\u001b[0m \u001b[0mage\u001b[0m\u001b[1;33m,\u001b[0m \u001b[0msex2\u001b[0m\u001b[1;33m)\u001b[0m\u001b[1;33m)\u001b[0m\u001b[1;33m\u001b[0m\u001b[1;33m\u001b[0m\u001b[0m\n\u001b[1;32m---> 36\u001b[1;33m     \u001b[0manalysis_recommend\u001b[0m\u001b[1;33m(\u001b[0m\u001b[0mdong_local_data\u001b[0m\u001b[1;33m,\u001b[0m \u001b[0mprepare_card_data\u001b[0m\u001b[1;33m(\u001b[0m\u001b[1;33m)\u001b[0m\u001b[1;33m)\u001b[0m\u001b[1;33m\u001b[0m\u001b[1;33m\u001b[0m\u001b[0m\n\u001b[0m",
      "\u001b[1;32m<ipython-input-5-be777a567694>\u001b[0m in \u001b[0;36manalysis_recommend\u001b[1;34m(input_data, card_data)\u001b[0m\n\u001b[0;32m     61\u001b[0m     \u001b[0mprint\u001b[0m\u001b[1;33m(\u001b[0m\u001b[1;34m\"1st카드 : %s, 카드점수 : %f\"\u001b[0m \u001b[1;33m%\u001b[0m\u001b[1;33m(\u001b[0m\u001b[0mcard_name\u001b[0m\u001b[1;33m[\u001b[0m\u001b[0mfirst_card_index\u001b[0m\u001b[1;33m]\u001b[0m\u001b[1;33m,\u001b[0m \u001b[0mdata_score\u001b[0m\u001b[1;33m[\u001b[0m\u001b[0mfirst_card_index\u001b[0m\u001b[1;33m]\u001b[0m\u001b[1;33m)\u001b[0m\u001b[1;33m)\u001b[0m\u001b[1;33m\u001b[0m\u001b[1;33m\u001b[0m\u001b[0m\n\u001b[0;32m     62\u001b[0m     \u001b[0mprint\u001b[0m\u001b[1;33m(\u001b[0m\u001b[1;34m\"2st카드 : %s, 카드점수 : %f\"\u001b[0m \u001b[1;33m%\u001b[0m\u001b[1;33m(\u001b[0m\u001b[0mcard_name\u001b[0m\u001b[1;33m[\u001b[0m\u001b[0msecond_card_index\u001b[0m\u001b[1;33m]\u001b[0m\u001b[1;33m,\u001b[0m \u001b[0mdata_score\u001b[0m\u001b[1;33m[\u001b[0m\u001b[0msecond_card_index\u001b[0m\u001b[1;33m]\u001b[0m\u001b[1;33m)\u001b[0m\u001b[1;33m)\u001b[0m\u001b[1;33m\u001b[0m\u001b[1;33m\u001b[0m\u001b[0m\n\u001b[1;32m---> 63\u001b[1;33m     \u001b[0mprint\u001b[0m\u001b[1;33m(\u001b[0m\u001b[1;34m\"3st카드 : %s, 카드점수 : %f\"\u001b[0m \u001b[1;33m%\u001b[0m\u001b[1;33m(\u001b[0m\u001b[0mcard_name\u001b[0m\u001b[1;33m[\u001b[0m\u001b[0mthird_card_index\u001b[0m\u001b[1;33m]\u001b[0m\u001b[1;33m,\u001b[0m \u001b[0mdata_score\u001b[0m\u001b[1;33m[\u001b[0m\u001b[0mthird_card_index\u001b[0m\u001b[1;33m]\u001b[0m\u001b[1;33m)\u001b[0m\u001b[1;33m)\u001b[0m\u001b[1;33m\u001b[0m\u001b[1;33m\u001b[0m\u001b[0m\n\u001b[0m\u001b[0;32m     64\u001b[0m     \u001b[0mprint\u001b[0m\u001b[1;33m(\u001b[0m\u001b[1;33m)\u001b[0m\u001b[1;33m\u001b[0m\u001b[1;33m\u001b[0m\u001b[0m\n",
      "\u001b[1;31mTypeError\u001b[0m: must be real number, not str"
     ]
    }
   ],
   "source": [
    "local_recommend(\"마포구\", \"자양1동\", \"70대이상\", \"F\", \"201903\")"
   ]
  },
  {
   "cell_type": "code",
   "execution_count": 33,
   "metadata": {},
   "outputs": [],
   "source": [
    "def seoul_recommend(age, sex):\n",
    "    seoul_data = pd.read_csv(os.path.join(path, '스울연령성별응용집계.csv'), encoding='utf-8')\n",
    "    seoul_condition = (seoul_data['연령대별']==age)&(seoul_data['성별']==sex)\n",
    "    seoul_data2 = seoul_data.loc[seoul_condition]\n",
    "    seoul_index = search_index(seoul_data2)\n",
    "    seoul_data2 = seoul_data2.reset_index()\n",
    "    seoul_data = seoul_data2.loc[0:seoul_index]\n",
    "    seoul_data = seoul_data.drop(['index', '성별', '연령대별', '카드이용건수계순위'], axis = 1)\n",
    "    seoul_data = UPJONG_UNION(seoul_data)\n",
    "    seoul_card = analysis_recommend(seoul_data, prepare_card_data())\n",
    "    return seoul_card"
   ]
  },
  {
   "cell_type": "code",
   "execution_count": 34,
   "metadata": {},
   "outputs": [
    {
     "name": "stdout",
     "output_type": "stream",
     "text": [
      "1st카드 : 위버스 신한카드(BTS), 카드점수 : 1.000000\n",
      "2st카드 : 신한카드 Mr.Life, 카드점수 : 1.000000\n",
      "3st카드 : 신한카드 YOLO, 카드점수 : 1.000000\n",
      "\n"
     ]
    }
   ],
   "source": [
    "card = seoul_recommend('50대', 'M')"
   ]
  },
  {
   "cell_type": "code",
   "execution_count": 38,
   "metadata": {},
   "outputs": [
    {
     "name": "stdout",
     "output_type": "stream",
     "text": [
      "1st카드 : 위버스 신한카드(BTS), 카드점수 : 0.666667\n"
     ]
    },
    {
     "ename": "TypeError",
     "evalue": "must be real number, not str",
     "output_type": "error",
     "traceback": [
      "\u001b[1;31m---------------------------------------------------------------------------\u001b[0m",
      "\u001b[1;31mTypeError\u001b[0m                                 Traceback (most recent call last)",
      "\u001b[1;32m<ipython-input-38-8c2145b2609e>\u001b[0m in \u001b[0;36m<module>\u001b[1;34m\u001b[0m\n\u001b[0;32m      7\u001b[0m \u001b[0mseoul_data\u001b[0m \u001b[1;33m=\u001b[0m \u001b[0mseoul_data\u001b[0m\u001b[1;33m.\u001b[0m\u001b[0mdrop\u001b[0m\u001b[1;33m(\u001b[0m\u001b[1;33m[\u001b[0m\u001b[1;34m'index'\u001b[0m\u001b[1;33m,\u001b[0m \u001b[1;34m'성별'\u001b[0m\u001b[1;33m,\u001b[0m \u001b[1;34m'연령대별'\u001b[0m\u001b[1;33m,\u001b[0m \u001b[1;34m'카드이용건수계순위'\u001b[0m\u001b[1;33m]\u001b[0m\u001b[1;33m,\u001b[0m \u001b[0maxis\u001b[0m \u001b[1;33m=\u001b[0m \u001b[1;36m1\u001b[0m\u001b[1;33m)\u001b[0m\u001b[1;33m\u001b[0m\u001b[1;33m\u001b[0m\u001b[0m\n\u001b[0;32m      8\u001b[0m \u001b[0mseoul_data\u001b[0m \u001b[1;33m=\u001b[0m \u001b[0mUPJONG_UNION\u001b[0m\u001b[1;33m(\u001b[0m\u001b[0mseoul_data\u001b[0m\u001b[1;33m)\u001b[0m\u001b[1;33m\u001b[0m\u001b[1;33m\u001b[0m\u001b[0m\n\u001b[1;32m----> 9\u001b[1;33m \u001b[0mseoul_card\u001b[0m \u001b[1;33m=\u001b[0m \u001b[0manalysis_recommend\u001b[0m\u001b[1;33m(\u001b[0m\u001b[0mseoul_data\u001b[0m\u001b[1;33m,\u001b[0m \u001b[0mprepare_card_data\u001b[0m\u001b[1;33m(\u001b[0m\u001b[1;33m)\u001b[0m\u001b[1;33m)\u001b[0m\u001b[1;33m\u001b[0m\u001b[1;33m\u001b[0m\u001b[0m\n\u001b[0m",
      "\u001b[1;32m<ipython-input-5-be777a567694>\u001b[0m in \u001b[0;36manalysis_recommend\u001b[1;34m(input_data, card_data)\u001b[0m\n\u001b[0;32m     60\u001b[0m     \u001b[0mcard_name\u001b[0m \u001b[1;33m=\u001b[0m \u001b[0mdata\u001b[0m\u001b[1;33m.\u001b[0m\u001b[0mloc\u001b[0m\u001b[1;33m[\u001b[0m\u001b[1;36m0\u001b[0m\u001b[1;33m,\u001b[0m \u001b[1;33m:\u001b[0m\u001b[1;33m]\u001b[0m\u001b[1;33m\u001b[0m\u001b[1;33m\u001b[0m\u001b[0m\n\u001b[0;32m     61\u001b[0m     \u001b[0mprint\u001b[0m\u001b[1;33m(\u001b[0m\u001b[1;34m\"1st카드 : %s, 카드점수 : %f\"\u001b[0m \u001b[1;33m%\u001b[0m\u001b[1;33m(\u001b[0m\u001b[0mcard_name\u001b[0m\u001b[1;33m[\u001b[0m\u001b[0mfirst_card_index\u001b[0m\u001b[1;33m]\u001b[0m\u001b[1;33m,\u001b[0m \u001b[0mdata_score\u001b[0m\u001b[1;33m[\u001b[0m\u001b[0mfirst_card_index\u001b[0m\u001b[1;33m]\u001b[0m\u001b[1;33m)\u001b[0m\u001b[1;33m)\u001b[0m\u001b[1;33m\u001b[0m\u001b[1;33m\u001b[0m\u001b[0m\n\u001b[1;32m---> 62\u001b[1;33m     \u001b[0mprint\u001b[0m\u001b[1;33m(\u001b[0m\u001b[1;34m\"2st카드 : %s, 카드점수 : %f\"\u001b[0m \u001b[1;33m%\u001b[0m\u001b[1;33m(\u001b[0m\u001b[0mcard_name\u001b[0m\u001b[1;33m[\u001b[0m\u001b[0msecond_card_index\u001b[0m\u001b[1;33m]\u001b[0m\u001b[1;33m,\u001b[0m \u001b[0mdata_score\u001b[0m\u001b[1;33m[\u001b[0m\u001b[0msecond_card_index\u001b[0m\u001b[1;33m]\u001b[0m\u001b[1;33m)\u001b[0m\u001b[1;33m)\u001b[0m\u001b[1;33m\u001b[0m\u001b[1;33m\u001b[0m\u001b[0m\n\u001b[0m\u001b[0;32m     63\u001b[0m     \u001b[0mprint\u001b[0m\u001b[1;33m(\u001b[0m\u001b[1;34m\"3st카드 : %s, 카드점수 : %f\"\u001b[0m \u001b[1;33m%\u001b[0m\u001b[1;33m(\u001b[0m\u001b[0mcard_name\u001b[0m\u001b[1;33m[\u001b[0m\u001b[0mthird_card_index\u001b[0m\u001b[1;33m]\u001b[0m\u001b[1;33m,\u001b[0m \u001b[0mdata_score\u001b[0m\u001b[1;33m[\u001b[0m\u001b[0mthird_card_index\u001b[0m\u001b[1;33m]\u001b[0m\u001b[1;33m)\u001b[0m\u001b[1;33m)\u001b[0m\u001b[1;33m\u001b[0m\u001b[1;33m\u001b[0m\u001b[0m\n\u001b[0;32m     64\u001b[0m     \u001b[0mprint\u001b[0m\u001b[1;33m(\u001b[0m\u001b[1;33m)\u001b[0m\u001b[1;33m\u001b[0m\u001b[1;33m\u001b[0m\u001b[0m\n",
      "\u001b[1;31mTypeError\u001b[0m: must be real number, not str"
     ]
    }
   ],
   "source": [
    "    seoul_data = pd.read_csv(os.path.join(path, '스울연령성별응용집계.csv'), encoding='utf-8')\n",
    "    seoul_condition = (seoul_data['연령대별']=='10대')&(seoul_data['성별']=='M')\n",
    "    seoul_data2 = seoul_data.loc[seoul_condition]\n",
    "    seoul_index = search_index(seoul_data2)\n",
    "    seoul_data2 = seoul_data2.reset_index()\n",
    "    seoul_data = seoul_data2.loc[0:seoul_index]\n",
    "    seoul_data = seoul_data.drop(['index', '성별', '연령대별', '카드이용건수계순위'], axis = 1)\n",
    "    seoul_data = UPJONG_UNION(seoul_data)\n",
    "    seoul_card = analysis_recommend(seoul_data, prepare_card_data())"
   ]
  },
  {
   "cell_type": "code",
   "execution_count": null,
   "metadata": {},
   "outputs": [],
   "source": []
  }
 ],
 "metadata": {
  "kernelspec": {
   "display_name": "Python 3",
   "language": "python",
   "name": "python3"
  },
  "language_info": {
   "codemirror_mode": {
    "name": "ipython",
    "version": 3
   },
   "file_extension": ".py",
   "mimetype": "text/x-python",
   "name": "python",
   "nbconvert_exporter": "python",
   "pygments_lexer": "ipython3",
   "version": "3.8.5"
  }
 },
 "nbformat": 4,
 "nbformat_minor": 4
}
